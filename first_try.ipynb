{
 "cells": [
  {
   "cell_type": "code",
   "execution_count": 1,
   "metadata": {
    "collapsed": true
   },
   "outputs": [],
   "source": [
    "import pandas as pd\n",
    "from matplotlib import pyplot as plt\n",
    "import numpy as np\n",
    "%matplotlib inline"
   ]
  },
  {
   "cell_type": "code",
   "execution_count": 2,
   "metadata": {
    "collapsed": false
   },
   "outputs": [
    {
     "data": {
      "text/html": [
       "<div>\n",
       "<style>\n",
       "    .dataframe thead tr:only-child th {\n",
       "        text-align: right;\n",
       "    }\n",
       "\n",
       "    .dataframe thead th {\n",
       "        text-align: left;\n",
       "    }\n",
       "\n",
       "    .dataframe tbody tr th {\n",
       "        vertical-align: top;\n",
       "    }\n",
       "</style>\n",
       "<table border=\"1\" class=\"dataframe\">\n",
       "  <thead>\n",
       "    <tr style=\"text-align: right;\">\n",
       "      <th></th>\n",
       "      <th>0</th>\n",
       "      <th>1</th>\n",
       "      <th>2</th>\n",
       "      <th>3</th>\n",
       "      <th>4</th>\n",
       "      <th>5</th>\n",
       "      <th>6</th>\n",
       "      <th>7</th>\n",
       "      <th>8</th>\n",
       "      <th>9</th>\n",
       "      <th>...</th>\n",
       "      <th>91</th>\n",
       "      <th>92</th>\n",
       "      <th>93</th>\n",
       "      <th>94</th>\n",
       "      <th>95</th>\n",
       "      <th>96</th>\n",
       "      <th>97</th>\n",
       "      <th>98</th>\n",
       "      <th>99</th>\n",
       "      <th>100</th>\n",
       "    </tr>\n",
       "  </thead>\n",
       "  <tbody>\n",
       "    <tr>\n",
       "      <th>0</th>\n",
       "      <td>0</td>\n",
       "      <td>1</td>\n",
       "      <td>1</td>\n",
       "      <td>0</td>\n",
       "      <td>0</td>\n",
       "      <td>0</td>\n",
       "      <td>1</td>\n",
       "      <td>0</td>\n",
       "      <td>1</td>\n",
       "      <td>1</td>\n",
       "      <td>...</td>\n",
       "      <td>1</td>\n",
       "      <td>1</td>\n",
       "      <td>1</td>\n",
       "      <td>0</td>\n",
       "      <td>0</td>\n",
       "      <td>0</td>\n",
       "      <td>0</td>\n",
       "      <td>1</td>\n",
       "      <td>1</td>\n",
       "      <td>8</td>\n",
       "    </tr>\n",
       "    <tr>\n",
       "      <th>1</th>\n",
       "      <td>1</td>\n",
       "      <td>0</td>\n",
       "      <td>1</td>\n",
       "      <td>1</td>\n",
       "      <td>1</td>\n",
       "      <td>0</td>\n",
       "      <td>0</td>\n",
       "      <td>1</td>\n",
       "      <td>1</td>\n",
       "      <td>1</td>\n",
       "      <td>...</td>\n",
       "      <td>1</td>\n",
       "      <td>1</td>\n",
       "      <td>0</td>\n",
       "      <td>1</td>\n",
       "      <td>1</td>\n",
       "      <td>1</td>\n",
       "      <td>0</td>\n",
       "      <td>1</td>\n",
       "      <td>0</td>\n",
       "      <td>6</td>\n",
       "    </tr>\n",
       "    <tr>\n",
       "      <th>2</th>\n",
       "      <td>1</td>\n",
       "      <td>1</td>\n",
       "      <td>1</td>\n",
       "      <td>1</td>\n",
       "      <td>0</td>\n",
       "      <td>1</td>\n",
       "      <td>0</td>\n",
       "      <td>0</td>\n",
       "      <td>1</td>\n",
       "      <td>1</td>\n",
       "      <td>...</td>\n",
       "      <td>0</td>\n",
       "      <td>0</td>\n",
       "      <td>0</td>\n",
       "      <td>1</td>\n",
       "      <td>0</td>\n",
       "      <td>1</td>\n",
       "      <td>1</td>\n",
       "      <td>0</td>\n",
       "      <td>0</td>\n",
       "      <td>6</td>\n",
       "    </tr>\n",
       "    <tr>\n",
       "      <th>3</th>\n",
       "      <td>0</td>\n",
       "      <td>0</td>\n",
       "      <td>0</td>\n",
       "      <td>1</td>\n",
       "      <td>0</td>\n",
       "      <td>0</td>\n",
       "      <td>0</td>\n",
       "      <td>0</td>\n",
       "      <td>0</td>\n",
       "      <td>0</td>\n",
       "      <td>...</td>\n",
       "      <td>1</td>\n",
       "      <td>1</td>\n",
       "      <td>0</td>\n",
       "      <td>1</td>\n",
       "      <td>0</td>\n",
       "      <td>0</td>\n",
       "      <td>1</td>\n",
       "      <td>1</td>\n",
       "      <td>1</td>\n",
       "      <td>7</td>\n",
       "    </tr>\n",
       "    <tr>\n",
       "      <th>4</th>\n",
       "      <td>1</td>\n",
       "      <td>0</td>\n",
       "      <td>1</td>\n",
       "      <td>1</td>\n",
       "      <td>1</td>\n",
       "      <td>1</td>\n",
       "      <td>0</td>\n",
       "      <td>0</td>\n",
       "      <td>1</td>\n",
       "      <td>1</td>\n",
       "      <td>...</td>\n",
       "      <td>1</td>\n",
       "      <td>0</td>\n",
       "      <td>1</td>\n",
       "      <td>0</td>\n",
       "      <td>0</td>\n",
       "      <td>0</td>\n",
       "      <td>0</td>\n",
       "      <td>1</td>\n",
       "      <td>1</td>\n",
       "      <td>10</td>\n",
       "    </tr>\n",
       "  </tbody>\n",
       "</table>\n",
       "<p>5 rows × 101 columns</p>\n",
       "</div>"
      ],
      "text/plain": [
       "   0  1  2  3  4  5  6  7  8  9 ...   91  92  93  94  95  96  97  98  99  100\n",
       "0  0  1  1  0  0  0  1  0  1  1 ...    1   1   1   0   0   0   0   1   1    8\n",
       "1  1  0  1  1  1  0  0  1  1  1 ...    1   1   0   1   1   1   0   1   0    6\n",
       "2  1  1  1  1  0  1  0  0  1  1 ...    0   0   0   1   0   1   1   0   0    6\n",
       "3  0  0  0  1  0  0  0  0  0  0 ...    1   1   0   1   0   0   1   1   1    7\n",
       "4  1  0  1  1  1  1  0  0  1  1 ...    1   0   1   0   0   0   0   1   1   10\n",
       "\n",
       "[5 rows x 101 columns]"
      ]
     },
     "execution_count": 2,
     "metadata": {},
     "output_type": "execute_result"
    }
   ],
   "source": [
    "frame = pd.read_csv('10x10, 10^5 images')\n",
    "frame.head()"
   ]
  },
  {
   "cell_type": "code",
   "execution_count": 35,
   "metadata": {
    "collapsed": false
   },
   "outputs": [
    {
     "name": "stdout",
     "output_type": "stream",
     "text": [
      "mean y 10.22975\n",
      "median y 10.0\n",
      "max y 24\n",
      "min y 1\n"
     ]
    },
    {
     "data": {
      "text/plain": [
       "(array([  2.20000000e+01,   1.40000000e+02,   5.76000000e+02,\n",
       "          1.54400000e+03,   3.13900000e+03,   5.30900000e+03,\n",
       "          8.09100000e+03,   1.06140000e+04,   1.25770000e+04,\n",
       "          1.28140000e+04,   1.21150000e+04,   1.05140000e+04,\n",
       "          8.27000000e+03,   5.73600000e+03,   3.83000000e+03,\n",
       "          2.34200000e+03,   1.24800000e+03,   6.24000000e+02,\n",
       "          2.93000000e+02,   1.30000000e+02,   4.30000000e+01,\n",
       "          1.80000000e+01,   1.10000000e+01]),\n",
       " array([  1.,   2.,   3.,   4.,   5.,   6.,   7.,   8.,   9.,  10.,  11.,\n",
       "         12.,  13.,  14.,  15.,  16.,  17.,  18.,  19.,  20.,  21.,  22.,\n",
       "         23.,  24.]),\n",
       " <a list of 23 Patch objects>)"
      ]
     },
     "execution_count": 35,
     "metadata": {},
     "output_type": "execute_result"
    },
    {
     "data": {
      "image/png": "[encoded data removed]",
      "text/plain": [
       "<matplotlib.figure.Figure at 0x7f835244bf98>"
      ]
     },
     "metadata": {},
     "output_type": "display_data"
    }
   ],
   "source": [
    "print('mean y', frame['100'].mean())\n",
    "print('median y', frame['100'].median())\n",
    "print('max y', frame['100'].max())\n",
    "print('min y', frame['100'].min())\n",
    "plt.xlabel('components count')\n",
    "plt.ylabel('number objects')\n",
    "plt.hist(frame['100'], bins=23)\n",
    "# Видим что распределение числа компонент связности - нормальное!"
   ]
  },
  {
   "cell_type": "code",
   "execution_count": 4,
   "metadata": {
    "collapsed": false
   },
   "outputs": [
    {
     "name": "stdout",
     "output_type": "stream",
     "text": [
      "mse 9.2851049375\n",
      "mae 2.42221\n"
     ]
    }
   ],
   "source": [
    "# Собственно если совсем ничего не делать\n",
    "from sklearn.metrics import mean_absolute_error\n",
    "from sklearn.metrics import mean_squared_error\n",
    "print('mse', mean_squared_error(frame['100'], [frame['100'].mean()] * frame.shape[0]))\n",
    "print('mae', mean_absolute_error(frame['100'], [frame['100'].median()] * frame.shape[0]))"
   ]
  },
  {
   "cell_type": "code",
   "execution_count": 5,
   "metadata": {
    "collapsed": true
   },
   "outputs": [],
   "source": [
    "X = frame.drop('100', axis = 1)\n",
    "y = frame['100']"
   ]
  },
  {
   "cell_type": "code",
   "execution_count": 6,
   "metadata": {
    "collapsed": false
   },
   "outputs": [],
   "source": [
    "from sklearn.model_selection import train_test_split\n",
    "X_train, X_test, y_train, y_test = train_test_split(X, y, test_size = 0.2)"
   ]
  },
  {
   "cell_type": "markdown",
   "metadata": {},
   "source": [
    "# Maybe KNN"
   ]
  },
  {
   "cell_type": "code",
   "execution_count": 12,
   "metadata": {
    "collapsed": false
   },
   "outputs": [],
   "source": [
    "#Собственно если сделать чуть-чуть\n",
    "from sklearn.neighbors import KNeighborsRegressor\n",
    "from sklearn.model_selection import GridSearchCV"
   ]
  },
  {
   "cell_type": "markdown",
   "metadata": {},
   "source": [
    "%%time\n",
    "knn = KNeighborsRegressor()\n",
    "param_grid_knn = {'n_neighbors': [1, 3, 5, 10, 30, 100, 1000], 'p': [1, 1.5, 2, 3]}\n",
    "param_grid_knn_mini = {'n_neighbors': [5], 'p': [1]}\n",
    "optimizer = GridSearchCV(knn, param_grid_mini, scoring='neg_mean_squared_error', n_jobs=-1, cv = 2)\n",
    "optimizer.fit(X_train, y_train)"
   ]
  },
  {
   "cell_type": "code",
   "execution_count": 9,
   "metadata": {
    "collapsed": false
   },
   "outputs": [
    {
     "name": "stdout",
     "output_type": "stream",
     "text": [
      "CPU times: user 10 s, sys: 8 ms, total: 10 s\n",
      "Wall time: 10 s\n"
     ]
    }
   ],
   "source": [
    "%%time\n",
    "knn = KNeighborsRegressor(n_neighbors=5, p=1)\n",
    "knn.fit(X_train, y_train)"
   ]
  },
  {
   "cell_type": "code",
   "execution_count": 11,
   "metadata": {
    "collapsed": false
   },
   "outputs": [
    {
     "name": "stdout",
     "output_type": "stream",
     "text": [
      "7.1814\n",
      "CPU times: user 23.1 s, sys: 4 ms, total: 23.1 s\n",
      "Wall time: 23.2 s\n"
     ]
    }
   ],
   "source": [
    "%%time\n",
    "print(mean_squared_error(y_test[:1000], knn.predict(X_test[:1000])))\n",
    "# Здесь почувствовалось, что KNN очень даже долгий на больших выборках, особенно его predict"
   ]
  },
  {
   "cell_type": "markdown",
   "metadata": {
    "collapsed": true
   },
   "source": [
    "# Линейные методы"
   ]
  },
  {
   "cell_type": "code",
   "execution_count": 14,
   "metadata": {
    "collapsed": true
   },
   "outputs": [],
   "source": [
    "from sklearn.linear_model import Ridge\n",
    "ridge = Ridge()\n",
    "param_grid_ridge = {'alpha': [0, 0.5, 0.75, 1, 1.5, 5, 10, 50]}\n",
    "optimizer = GridSearchCV(ridge, param_grid_ridge, scoring='neg_mean_squared_error', n_jobs=-1, cv = 3)"
   ]
  },
  {
   "cell_type": "code",
   "execution_count": 88,
   "metadata": {
    "collapsed": false
   },
   "outputs": [
    {
     "name": "stdout",
     "output_type": "stream",
     "text": [
      "CPU times: user 3.12 s, sys: 128 ms, total: 3.25 s\n",
      "Wall time: 3.9 s\n"
     ]
    },
    {
     "data": {
      "text/plain": [
       "GridSearchCV(cv=3, error_score='raise',\n",
       "       estimator=Ridge(alpha=1.0, copy_X=True, fit_intercept=True, max_iter=None,\n",
       "   normalize=False, random_state=None, solver='auto', tol=0.001),\n",
       "       fit_params={}, iid=True, n_jobs=-1,\n",
       "       param_grid={'alpha': [0, 0.5, 0.75, 1, 1.5, 5, 10, 50]},\n",
       "       pre_dispatch='2*n_jobs', refit=True, return_train_score=True,\n",
       "       scoring='neg_mean_squared_error', verbose=0)"
      ]
     },
     "execution_count": 88,
     "metadata": {},
     "output_type": "execute_result"
    }
   ],
   "source": [
    "%%time\n",
    "optimizer.fit(X_train, y_train)"
   ]
  },
  {
   "cell_type": "code",
   "execution_count": 89,
   "metadata": {
    "collapsed": false
   },
   "outputs": [
    {
     "name": "stdout",
     "output_type": "stream",
     "text": [
      "5.43477903517\n"
     ]
    }
   ],
   "source": [
    "print('ridge mse test', mean_squared_error(y_test, optimizer.predict(X_test)))"
   ]
  },
  {
   "cell_type": "code",
   "execution_count": 94,
   "metadata": {
    "collapsed": false
   },
   "outputs": [
    {
     "name": "stdout",
     "output_type": "stream",
     "text": [
      "b =  28.6726491708\n"
     ]
    }
   ],
   "source": [
    "best_ridge = optimizer.best_estimator_\n",
    "coefs = best_ridge.coef_\n",
    "print('b = ', best_ridge.predict(np.zeros((1, 100)))[0])"
   ]
  },
  {
   "cell_type": "code",
   "execution_count": 78,
   "metadata": {
    "collapsed": false
   },
   "outputs": [
    {
     "data": {
      "text/plain": [
       "<matplotlib.image.AxesImage at 0x7ff993347b38>"
      ]
     },
     "execution_count": 78,
     "metadata": {},
     "output_type": "execute_result"
    },
    {
     "data": {
      "image/png": "[encoded data removed]",
      "text/plain": [
       "<matplotlib.figure.Figure at 0x7ff993499588>"
      ]
     },
     "metadata": {},
     "output_type": "display_data"
    }
   ],
   "source": [
    "#Это картинка важности клеток в модели, интересно, что от угловых клеток мало что зависит\n",
    "plt.figure(figsize=(16, 4))\n",
    "plt.subplot(1, 3, 1)\n",
    "plt.imshow(coefs.reshape(10, 10), cmap='gray', interpolation='nearest') \n",
    "plt.subplot(1, 3, 2)\n",
    "plt.imshow(np.array([np.abs(x) > 0.3 for x in coefs.reshape(10, 10)]), cmap='gray', interpolation='nearest') \n",
    "plt.subplot(1, 3, 3)\n",
    "plt.imshow(np.array([x > 0 for x in coefs.reshape(10, 10)]), cmap='gray', interpolation='nearest') "
   ]
  },
  {
   "cell_type": "markdown",
   "metadata": {},
   "source": [
    "    Из коэффициентов модели можно сделать следующие выводы:\n",
    "  \n",
    "   1) Угловые клетки почти не влияют на кол-во компонент, действительно это может быть только в том случае, если 3 клетки около неё черные - что не часто бывает. Причём при угловых коэффициенты больше 0 и близки к 1/8, что невероятно логично, ведь если там белая клетка (1), то с вероятностью 1/8 она даст прирост\n",
    "     \n",
    "   2) Во всех остальных же клетках коэффициенты меньше 0, причём по границе они не такие большие порядка -0.25, а в центре катринки около -0.42. Это говорит о том, что если клетка белая, то она скорее уменьшить кол-во компонент связности, в связи с тем, что свяжет близлежайшие к ней компоненты, причём в центре картинки сделать это более вероятно\n",
    "   \n",
    "   3) Также очевидно, что все признаки важны и нет смысла использовать Lasso (я попробовал лучше не стало)\n",
    "   \n",
    "   4) Также из-за того, что данные генерировались случайно, то модель и недумает предсказывать числа большие 30, так b = 28.6, и увеличится итоговое предсказание может макисмум до 29, благодаря положительным коэффициентам в угловых клетках."
   ]
  },
  {
   "cell_type": "markdown",
   "metadata": {},
   "source": [
    "## Трансформация признаков"
   ]
  },
  {
   "cell_type": "code",
   "execution_count": 19,
   "metadata": {
    "collapsed": true
   },
   "outputs": [],
   "source": [
    "from sklearn.preprocessing import PolynomialFeatures"
   ]
  },
  {
   "cell_type": "code",
   "execution_count": 20,
   "metadata": {
    "collapsed": true
   },
   "outputs": [],
   "source": [
    "transform = PolynomialFeatures(2)"
   ]
  },
  {
   "cell_type": "code",
   "execution_count": 21,
   "metadata": {
    "collapsed": false
   },
   "outputs": [
    {
     "name": "stdout",
     "output_type": "stream",
     "text": [
      "(80000, 5151)\n",
      "CPU times: user 5.98 s, sys: 332 ms, total: 6.31 s\n",
      "Wall time: 6.32 s\n"
     ]
    }
   ],
   "source": [
    "%%time\n",
    "X_train_poly = transform.fit_transform(X_train) #because very much memory need\n",
    "X_test_poly = transform.transform(X_test)\n",
    "print(X_train_poly.shape)"
   ]
  },
  {
   "cell_type": "code",
   "execution_count": 35,
   "metadata": {
    "collapsed": false
   },
   "outputs": [],
   "source": [
    "from sklearn.linear_model import Lasso\n",
    "lasso = Lasso()\n",
    "param_grid_lasso = {'alpha': [0.007, 0.01, 0.02]}\n",
    "optimizer = GridSearchCV(lasso, param_grid_lasso, scoring='neg_mean_squared_error', cv = 3)"
   ]
  },
  {
   "cell_type": "code",
   "execution_count": 36,
   "metadata": {
    "collapsed": false
   },
   "outputs": [
    {
     "name": "stdout",
     "output_type": "stream",
     "text": [
      "CPU times: user 5min 3s, sys: 13.9 s, total: 5min 17s\n",
      "Wall time: 3min 31s\n"
     ]
    },
    {
     "data": {
      "text/plain": [
       "GridSearchCV(cv=3, error_score='raise',\n",
       "       estimator=Lasso(alpha=1.0, copy_X=True, fit_intercept=True, max_iter=1000,\n",
       "   normalize=False, positive=False, precompute=False, random_state=None,\n",
       "   selection='cyclic', tol=0.0001, warm_start=False),\n",
       "       fit_params={}, iid=True, n_jobs=1,\n",
       "       param_grid={'alpha': [0.007, 0.01, 0.02]}, pre_dispatch='2*n_jobs',\n",
       "       refit=True, return_train_score=True,\n",
       "       scoring='neg_mean_squared_error', verbose=0)"
      ]
     },
     "execution_count": 36,
     "metadata": {},
     "output_type": "execute_result"
    }
   ],
   "source": [
    "%%time\n",
    "optimizer.fit(X_train_poly, y_train)"
   ]
  },
  {
   "cell_type": "code",
   "execution_count": 37,
   "metadata": {
    "collapsed": true
   },
   "outputs": [],
   "source": [
    "best_lasso = optimizer.best_estimator_"
   ]
  },
  {
   "cell_type": "code",
   "execution_count": 38,
   "metadata": {
    "collapsed": false
   },
   "outputs": [
    {
     "data": {
      "text/plain": [
       "0.007"
      ]
     },
     "execution_count": 38,
     "metadata": {},
     "output_type": "execute_result"
    }
   ],
   "source": [
    "best_lasso.alpha"
   ]
  },
  {
   "cell_type": "code",
   "execution_count": 39,
   "metadata": {
    "collapsed": false
   },
   "outputs": [
    {
     "data": {
      "text/plain": [
       "756"
      ]
     },
     "execution_count": 39,
     "metadata": {},
     "output_type": "execute_result"
    }
   ],
   "source": [
    "best_lasso.coef_[best_lasso.coef_ != 0].shape[0]"
   ]
  },
  {
   "cell_type": "code",
   "execution_count": 64,
   "metadata": {
    "collapsed": false
   },
   "outputs": [
    {
     "data": {
      "text/plain": [
       "array(['0', '1', '2', '3', '4', '5', '6', '7', '8', '9', '10', '19', '20',\n",
       "       '29', '30', '39', '40', '49', '50', '59', '60', '69', '70', '79',\n",
       "       '80', '89', '90', '91', '92', '93', '94', '95', '96', '97', '98',\n",
       "       '99', '0^2', '0 1', '0 3', '0 6', '0 9', '0 10', '0 11', '0 20',\n",
       "       '0 30', '0 40', '0 49', '0 69', '0 79', '0 91', '0 92', '0 93',\n",
       "       '0 96', '0 97', '0 98', '1^2', '1 2', '1 3', '1 5', '1 9', '1 10',\n",
       "       '1 11', '1 12', '1 20', '1 32', '1 39', '1 60', '1 69', '1 70',\n",
       "       '1 79', '1 80', '1 89', '1 91', '1 94', '1 95', '1 96', '1 98',\n",
       "       '2^2', '2 3', '2 4', '2 5', '2 6', '2 7', '2 8', '2 10', '2 11',\n",
       "       '2 12', '2 13', '2 19', '2 20', '2 29', '2 39', '2 40', '2 49',\n",
       "       '2 59', '2 60', '2 70', '2 80', '2 90', '2 91', '2 92', '2 96',\n",
       "       '2 99', '3^2', '3 4', '3 5', '3 7', '3 10', '3 12', '3 13', '3 14',\n",
       "       '3 19', '3 22', '3 24', '3 29', '3 39', '3 49', '3 50', '3 69',\n",
       "       '3 79', '3 89', '3 90', '3 95', '4^2', '4 5', '4 6', '4 8', '4 9',\n",
       "       '4 13', '4 14', '4 15', '4 24', '4 30', '4 39', '4 40', '4 50',\n",
       "       '4 69', '4 80', '4 89', '4 90', '4 92', '4 94', '4 96', '4 97',\n",
       "       '4 99', '5^2', '5 6', '5 7', '5 9', '5 10', '5 14', '5 15', '5 16',\n",
       "       '5 19', '5 20', '5 25', '5 29', '5 30', '5 40', '5 49', '5 59',\n",
       "       '5 69', '5 70', '5 89', '5 90', '5 91', '5 92', '5 95', '5 98',\n",
       "       '6^2', '6 7', '6 8', '6 9', '6 10', '6 15', '6 16', '6 17', '6 20',\n",
       "       '6 29', '6 39', '6 40', '6 50', '6 59', '6 69', '6 94', '6 95',\n",
       "       '6 98', '6 99', '7^2', '7 8', '7 9', '7 16', '7 17', '7 18', '7 19',\n",
       "       '7 25', '7 27', '7 29', '7 40', '7 50', '7 59', '7 60', '7 76',\n",
       "       '7 80', '7 94', '7 95', '7 96', '7 97', '7 98', '7 99', '8^2',\n",
       "       '8 9', '8 17', '8 18', '8 19', '8 20', '8 49', '8 70', '8 91',\n",
       "       '8 92', '8 93', '8 94', '8 96', '8 98', '9^2', '9 10', '9 18',\n",
       "       '9 19', '9 20', '9 29', '9 32', '9 39', '9 47', '9 50', '9 60',\n",
       "       '9 79', '9 89', '9 92', '9 93', '9 94', '9 95', '9 96', '9 98',\n",
       "       '10^2', '10 11', '10 19', '10 20', '10 21', '10 22', '10 39',\n",
       "       '10 40', '10 49', '10 59', '10 60', '10 69', '10 70', '10 91',\n",
       "       '10 94', '10 95', '10 98', '11 12', '11 20', '11 21', '11 22',\n",
       "       '12 13', '12 21', '12 22', '12 23', '13 14', '13 22', '13 23',\n",
       "       '13 24', '14 15', '14 23', '14 24', '14 25', '15 16', '15 24',\n",
       "       '15 25', '15 26', '16 17', '16 25', '16 26', '16 27', '17 18',\n",
       "       '17 26', '17 27', '17 28', '18 19', '18 27', '18 28', '18 29',\n",
       "       '19^2', '19 28', '19 29', '19 39', '19 40', '19 49', '19 90',\n",
       "       '19 92', '19 93', '19 95', '19 97', '19 98', '19 99', '20^2',\n",
       "       '20 21', '20 29', '20 30', '20 31', '20 39', '20 40', '20 49',\n",
       "       '20 59', '20 60', '20 69', '20 70', '20 79', '20 80', '20 89',\n",
       "       '20 90', '20 94', '20 96', '20 98', '20 99', '21 22', '21 30',\n",
       "       '21 31', '21 32', '22 23', '22 31', '22 32', '22 33', '22 60',\n",
       "       '23 24', '23 32', '23 33', '23 34', '24 25', '24 33', '24 34',\n",
       "       '24 35', '25 26', '25 34', '25 35', '25 36', '26 27', '26 35',\n",
       "       '26 36', '26 37', '27 28', '27 36', '27 37', '27 38', '28 29',\n",
       "       '28 37', '28 38', '28 39', '29^2', '29 30', '29 38', '29 39',\n",
       "       '29 49', '29 50', '29 69', '29 70', '29 79', '29 89', '29 90',\n",
       "       '29 91', '29 92', '29 93', '29 94', '29 98', '29 99', '30^2',\n",
       "       '30 31', '30 39', '30 40', '30 41', '30 49', '30 50', '30 59',\n",
       "       '30 60', '30 79', '30 80', '30 89', '30 90', '30 96', '30 99',\n",
       "       '31 32', '31 40', '31 41', '31 42', '32 33', '32 41', '32 42',\n",
       "       '32 43', '32 60', '33 34', '33 42', '33 43', '33 44', '34 35',\n",
       "       '34 43', '34 44', '34 45', '35 36', '35 44', '35 45', '35 46',\n",
       "       '36 37', '36 45', '36 46', '36 47', '37 38', '37 39', '37 46',\n",
       "       '37 47', '37 48', '38 39', '38 47', '38 48', '38 49', '39^2',\n",
       "       '39 48', '39 49', '39 59', '39 69', '39 70', '39 79', '39 80',\n",
       "       '39 89', '39 90', '39 92', '39 93', '39 94', '39 95', '39 98',\n",
       "       '39 99', '40^2', '40 41', '40 44', '40 49', '40 50', '40 51',\n",
       "       '40 59', '40 60', '40 70', '40 80', '40 90', '40 91', '40 93',\n",
       "       '40 94', '40 95', '40 97', '40 98', '41 42', '41 50', '41 51',\n",
       "       '41 52', '42 43', '42 51', '42 52', '42 53', '43 44', '43 52',\n",
       "       '43 53', '43 54', '44 45', '44 53', '44 54', '44 55', '45 46',\n",
       "       '45 54', '45 55', '45 56', '46 47', '46 55', '46 56', '46 57',\n",
       "       '47 48', '47 56', '47 57', '47 58', '48 49', '48 57', '48 58',\n",
       "       '48 59', '49^2', '49 58', '49 59', '49 60', '49 69', '49 70',\n",
       "       '49 79', '49 91', '49 92', '49 94', '49 95', '49 96', '49 98',\n",
       "       '50^2', '50 51', '50 52', '50 59', '50 60', '50 61', '50 69',\n",
       "       '50 70', '50 80', '50 92', '50 94', '50 95', '51 52', '51 60',\n",
       "       '51 61', '51 62', '52 53', '52 61', '52 62', '52 63', '52 69',\n",
       "       '53 54', '53 60', '53 62', '53 63', '53 64', '54 55', '54 63',\n",
       "       '54 64', '54 65', '55 56', '55 64', '55 65', '55 66', '56 57',\n",
       "       '56 65', '56 66', '56 67', '57 58', '57 59', '57 66', '57 67',\n",
       "       '57 68', '57 98', '58 59', '58 67', '58 68', '58 69', '59^2',\n",
       "       '59 60', '59 68', '59 69', '59 79', '59 80', '59 91', '59 93',\n",
       "       '59 96', '59 97', '60^2', '60 61', '60 70', '60 71', '60 80',\n",
       "       '60 90', '60 91', '60 92', '60 93', '60 95', '60 97', '60 99',\n",
       "       '61 62', '61 70', '61 71', '61 72', '62 63', '62 71', '62 72',\n",
       "       '62 73', '63 64', '63 72', '63 73', '63 74', '64 65', '64 73',\n",
       "       '64 74', '64 75', '65 66', '65 74', '65 75', '65 76', '66 67',\n",
       "       '66 75', '66 76', '66 77', '67 68', '67 76', '67 77', '67 78',\n",
       "       '68 69', '68 77', '68 78', '68 79', '69^2', '69 78', '69 79',\n",
       "       '69 80', '69 91', '69 92', '69 97', '70^2', '70 71', '70 79',\n",
       "       '70 80', '70 81', '70 89', '70 90', '70 91', '70 93', '70 95',\n",
       "       '70 96', '70 98', '70 99', '71 72', '71 80', '71 81', '71 82',\n",
       "       '72 73', '72 81', '72 82', '72 83', '72 93', '73 74', '73 82',\n",
       "       '73 83', '73 84', '73 93', '74 75', '74 83', '74 84', '74 85',\n",
       "       '75 76', '75 84', '75 85', '75 86', '75 95', '76 77', '76 85',\n",
       "       '76 86', '76 87', '77 78', '77 86', '77 87', '77 88', '78 79',\n",
       "       '78 87', '78 88', '78 89', '79^2', '79 88', '79 89', '79 90',\n",
       "       '79 92', '79 95', '79 96', '79 97', '79 99', '80^2', '80 81',\n",
       "       '80 90', '80 91', '80 92', '80 95', '80 98', '80 99', '81 82',\n",
       "       '81 90', '81 91', '81 92', '82 83', '82 91', '82 92', '82 93',\n",
       "       '83 84', '83 92', '83 93', '83 94', '84 85', '84 93', '84 94',\n",
       "       '84 95', '85 86', '85 94', '85 95', '85 96', '86 87', '86 95',\n",
       "       '86 96', '86 97', '87 88', '87 96', '87 97', '87 98', '88 89',\n",
       "       '88 97', '88 98', '88 99', '89^2', '89 91', '89 92', '89 93',\n",
       "       '89 98', '89 99', '90^2', '90 91', '90 92', '90 93', '90 94',\n",
       "       '90 95', '90 96', '90 98', '91^2', '91 92', '91 93', '91 94',\n",
       "       '91 98', '92^2', '92 93', '92 94', '92 95', '92 96', '92 97',\n",
       "       '92 98', '93^2', '93 94', '93 96', '93 98', '94^2', '94 95',\n",
       "       '94 96', '94 98', '95^2', '95 96', '95 97', '95 99', '96^2',\n",
       "       '96 97', '96 98', '96 99', '97^2', '97 98', '97 99', '98^2',\n",
       "       '98 99', '99^2'], \n",
       "      dtype='<U5')"
      ]
     },
     "execution_count": 64,
     "metadata": {},
     "output_type": "execute_result"
    }
   ],
   "source": [
    "# Выдаёт имена используемых признаков\n",
    "np.array(transform.get_feature_names(frame.columns))[[idx for idx, x in list(enumerate([x for x in best_lasso.coef_])) if x != 0]] "
   ]
  },
  {
   "cell_type": "code",
   "execution_count": 40,
   "metadata": {
    "collapsed": false
   },
   "outputs": [
    {
     "name": "stdout",
     "output_type": "stream",
     "text": [
      "1.84834385374\n"
     ]
    }
   ],
   "source": [
    "print(mean_squared_error(y_test, optimizer.predict(X_test_poly)))"
   ]
  },
  {
   "cell_type": "markdown",
   "metadata": {},
   "source": [
    "Удивительный результат, получается, что с полиномиальными фичами можно добиться очень достойного результата 1.85. К сожалению, его теперь не так просто интерпретировать("
   ]
  },
  {
   "cell_type": "markdown",
   "metadata": {
    "collapsed": true
   },
   "source": [
    "# Композиции решающих деревьев"
   ]
  },
  {
   "cell_type": "code",
   "execution_count": 14,
   "metadata": {
    "collapsed": false
   },
   "outputs": [],
   "source": [
    "from sklearn.ensemble import RandomForestRegressor\n",
    "import xgboost"
   ]
  },
  {
   "cell_type": "code",
   "execution_count": 21,
   "metadata": {
    "collapsed": false
   },
   "outputs": [
    {
     "name": "stdout",
     "output_type": "stream",
     "text": [
      "rf mse train: 2.09988784314\n",
      "rf mse test: 6.56881456259\n",
      "CPU times: user 2min 50s, sys: 268 ms, total: 2min 51s\n",
      "Wall time: 52.5 s\n"
     ]
    }
   ],
   "source": [
    "%%time\n",
    "rf = RandomForestRegressor(n_estimators=100, n_jobs=-1, max_depth=13)\n",
    "rf.fit(X_train, y_train)\n",
    "print('rf mse train:', mean_squared_error(y_train, rf.predict(X_train)))\n",
    "print('rf mse test:', mean_squared_error(y_test, rf.predict(X_test)))"
   ]
  },
  {
   "cell_type": "code",
   "execution_count": 27,
   "metadata": {
    "collapsed": false
   },
   "outputs": [
    {
     "name": "stdout",
     "output_type": "stream",
     "text": [
      "xgb mse train: 0.569232062468\n",
      "xgb mse test: 0.642547103914\n",
      "CPU times: user 21min 57s, sys: 2.99 s, total: 22min\n",
      "Wall time: 6min 36s\n"
     ]
    }
   ],
   "source": [
    "%%time\n",
    "xgb = xgboost.XGBRegressor(n_estimators=5000)\n",
    "xgb.fit(X_train, y_train)\n",
    "print('xgb mse train:', mean_squared_error(y_train, xgb.predict(X_train)))\n",
    "print('xgb mse test:', mean_squared_error(y_test, xgb.predict(X_test)))"
   ]
  },
  {
   "cell_type": "code",
   "execution_count": 53,
   "metadata": {
    "collapsed": false
   },
   "outputs": [
    {
     "name": "stdout",
     "output_type": "stream",
     "text": [
      "[ 3.67477584  8.71294022  8.7796793 ] [4 8 8]\n"
     ]
    }
   ],
   "source": [
    "print(xgb.predict(X_test)[:3], y_test[:3].values)"
   ]
  },
  {
   "cell_type": "code",
   "execution_count": 64,
   "metadata": {
    "collapsed": false
   },
   "outputs": [
    {
     "name": "stdout",
     "output_type": "stream",
     "text": [
      "predict white 6.18764\n",
      "predict black -7.94501\n"
     ]
    }
   ],
   "source": [
    "print('predict white', xgb.predict(pd.DataFrame([[0] * 100], columns=X_test.columns))[0])\n",
    "print('predict black', xgb.predict(pd.DataFrame([[1] * 100], columns=X_test.columns))[0])"
   ]
  },
  {
   "cell_type": "markdown",
   "metadata": {},
   "source": [
    "    Результаты:\n",
    "\n",
    "1) Невероятный результат от xgboost, ему потребовалось много деревьев, но увиденное поражает, средняя квадратичная ошибка на тесте 0.65! Это очень круто. Сложно объяснить почему xgboost дал такой хороший результат. \n",
    "\n",
    "2) Но также заметим, что если ему подать полнстью белую или чёрную картинку, то он будет очень далёк от правильного ответа 1 и 0 соответственно. Во втором случае он вообще даёт число меньшее 0. Но и не удивительно, такие данные очень сложно получить если красить каждую клетку в черный или белый равновероятно(как это было при генерации этих данных) это были бы скорее аномалии в данной выборке. Модель просто не была приспособлена к таким выборкам. Поэтому стоит понимать, что xgboost не научился считать компоненты связности для любой раскраски, а лишь при раскрасках полученых таким же образом как и обучающая выборка.\n",
    "\n",
    "3) Случайный лес мне вообще не удалось вывести на что-то лучшее чем линейный модели в лоб. Он очень быстро переобучался, из-за того что очень много важных признаков"
   ]
  },
  {
   "cell_type": "code",
   "execution_count": null,
   "metadata": {
    "collapsed": true
   },
   "outputs": [],
   "source": []
  }
 ],
 "metadata": {
  "kernelspec": {
   "display_name": "Python 3",
   "language": "python",
   "name": "python3"
  },
  "language_info": {
   "codemirror_mode": {
    "name": "ipython",
    "version": 3
   },
   "file_extension": ".py",
   "mimetype": "text/x-python",
   "name": "python",
   "nbconvert_exporter": "python",
   "pygments_lexer": "ipython3",
   "version": "3.6.0"
  }
 },
 "nbformat": 4,
 "nbformat_minor": 2
}

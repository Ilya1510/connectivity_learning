{
 "cells": [
  {
   "cell_type": "markdown",
   "metadata": {},
   "source": [
    "# Generating data\n",
    "* choose p_black $\\in (0, 1)$ - probability that node at the picture will be black and with prob (1 - p) will be white\n",
    "* define label by picture - count of white connected components"
   ]
  },
  {
   "cell_type": "code",
   "execution_count": 1,
   "metadata": {},
   "outputs": [],
   "source": [
    "from matplotlib import pyplot as plt\n",
    "import numpy as np\n",
    "import pandas as pd\n",
    "from scipy.stats import bernoulli\n",
    "%matplotlib inline"
   ]
  },
  {
   "cell_type": "code",
   "execution_count": 2,
   "metadata": {},
   "outputs": [],
   "source": [
    "def get_new_picture(shape, p_black):\n",
    "    b = bernoulli(1 - p_black)\n",
    "    return b.rvs(size = shape)"
   ]
  },
  {
   "cell_type": "code",
   "execution_count": 11,
   "metadata": {},
   "outputs": [
    {
     "data": {
      "text/plain": [
       "<matplotlib.image.AxesImage at 0x7f90b305bb90>"
      ]
     },
     "execution_count": 11,
     "metadata": {},
     "output_type": "execute_result"
    },
    {
     "data": {
      "image/png": "[encoded data removed]",
      "text/plain": [
       "<Figure size 432x288 with 1 Axes>"
      ]
     },
     "metadata": {
      "needs_background": "light"
     },
     "output_type": "display_data"
    }
   ],
   "source": [
    "plt.imshow(get_new_picture((20, 20), 0.3), cmap='gray', interpolation='nearest') "
   ]
  },
  {
   "cell_type": "code",
   "execution_count": 5,
   "metadata": {},
   "outputs": [],
   "source": [
    "def get_data(shape, p_black, count):\n",
    "    images = [get_new_picture(shape, p_black) for i in range(count)]\n",
    "    return np.array(images)\n",
    "\n",
    "def get_labels(data):\n",
    "    y = np.zeros(data.shape[0], dtype=int)\n",
    "    for idx, image in enumerate(data):\n",
    "        y[idx] = find_connectivities_count(image)\n",
    "    return y"
   ]
  },
  {
   "cell_type": "code",
   "execution_count": 6,
   "metadata": {},
   "outputs": [],
   "source": [
    "delta2 = [[0, 1], [1, 0], [-1, 0], [0, -1]]\n",
    "\n",
    "def dfs(image, color, i, j):\n",
    "    color[i, j] = 1\n",
    "    for d in delta2:\n",
    "        i_new = i + d[0]\n",
    "        j_new = j + d[1]\n",
    "        if (i_new >= 0 and j_new >= 0 and i_new < image.shape[0] and j_new < image.shape[0] and\n",
    "               image[i_new, j_new] == 1 and color[i_new, j_new] == 0):\n",
    "            dfs(image, color, i_new, j_new)\n",
    "    color[i, j] = 2\n",
    "\n",
    "def find_connectivities_count(image):\n",
    "    count = 0\n",
    "    color = np.zeros(image.shape)\n",
    "    for i in range(image.shape[0]):\n",
    "        for j in range(image.shape[0]):\n",
    "            if (color[i, j] == 0 and image[i, j] == 1): #image[i, j] == 1 if it is white\n",
    "                count += 1\n",
    "                dfs(image, color, i, j)\n",
    "    return count"
   ]
  },
  {
   "cell_type": "code",
   "execution_count": 28,
   "metadata": {},
   "outputs": [
    {
     "name": "stdout",
     "output_type": "stream",
     "text": [
      "2\n",
      "(10000, 10, 10) (10000,)\n",
      "0.4962\n",
      "CPU times: user 7.89 s, sys: 44 ms, total: 7.93 s\n",
      "Wall time: 7.96 s\n"
     ]
    },
    {
     "data": {
      "image/png": "[encoded data removed]",
      "text/plain": [
       "<Figure size 432x288 with 1 Axes>"
      ]
     },
     "metadata": {
      "needs_background": "light"
     },
     "output_type": "display_data"
    }
   ],
   "source": [
    "%%time\n",
    "X = get_data((10, 10), 0.2123, 10000)\n",
    "y = get_labels(X)\n",
    "picture = X[10]\n",
    "plt.imshow(picture, cmap='gray', interpolation='nearest') \n",
    "print(find_connectivities_count(picture))\n",
    "print(X.shape, y.shape)\n",
    "print(np.mean(y > 1))"
   ]
  },
  {
   "cell_type": "code",
   "execution_count": 29,
   "metadata": {},
   "outputs": [],
   "source": [
    "frame = pd.DataFrame(data=np.hstack((X.reshape(10000, 100), y.reshape((10000, 1)))))"
   ]
  },
  {
   "cell_type": "code",
   "execution_count": 30,
   "metadata": {},
   "outputs": [],
   "source": [
    "frame.to_csv('p=0.2123_10x10_10^4_images', index=False)"
   ]
  },
  {
   "cell_type": "code",
   "execution_count": null,
   "metadata": {},
   "outputs": [],
   "source": []
  }
 ],
 "metadata": {
  "kernelspec": {
   "display_name": "Python 3",
   "language": "python",
   "name": "python3"
  },
  "language_info": {
   "codemirror_mode": {
    "name": "ipython",
    "version": 3
   },
   "file_extension": ".py",
   "mimetype": "text/x-python",
   "name": "python",
   "nbconvert_exporter": "python",
   "pygments_lexer": "ipython3",
   "version": "3.7.4"
  }
 },
 "nbformat": 4,
 "nbformat_minor": 2
}

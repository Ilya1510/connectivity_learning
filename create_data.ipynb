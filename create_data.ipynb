{
 "cells": [
  {
   "cell_type": "code",
   "execution_count": 38,
   "metadata": {
    "collapsed": false
   },
   "outputs": [],
   "source": [
    "from matplotlib import pyplot as plt\n",
    "import numpy as np\n",
    "import pandas as pd\n",
    "from scipy.stats import bernoulli\n",
    "%matplotlib inline"
   ]
  },
  {
   "cell_type": "code",
   "execution_count": 39,
   "metadata": {
    "collapsed": false
   },
   "outputs": [],
   "source": [
    "def get_new_picture(shape, p_black):\n",
    "    b = bernoulli(1 - p_black)\n",
    "    return b.rvs(size = shape)"
   ]
  },
  {
   "cell_type": "code",
   "execution_count": 40,
   "metadata": {
    "collapsed": false
   },
   "outputs": [
    {
     "data": {
      "text/plain": [
       "<matplotlib.image.AxesImage at 0x7f51d2f86978>"
      ]
     },
     "execution_count": 40,
     "metadata": {},
     "output_type": "execute_result"
    },
    {
     "data": {
      "image/png": "[encoded data removed]",
      "text/plain": [
       "<matplotlib.figure.Figure at 0x7f51d3179748>"
      ]
     },
     "metadata": {},
     "output_type": "display_data"
    }
   ],
   "source": [
    "plt.imshow(get_new_picture((20, 20), 0.5), cmap='gray', interpolation='nearest') "
   ]
  },
  {
   "cell_type": "code",
   "execution_count": 57,
   "metadata": {
    "collapsed": false
   },
   "outputs": [],
   "source": [
    "def get_data(shape, p_black, count):\n",
    "    images = [get_new_picture(shape, p_black) for i in range(count)]\n",
    "    return np.array(images)\n",
    "\n",
    "def get_labels(data):\n",
    "    y = np.zeros(data.shape[0], dtype=int)\n",
    "    for idx, image in enumerate(data):\n",
    "        y[idx] = find_connectivities_count(image)\n",
    "    return y"
   ]
  },
  {
   "cell_type": "code",
   "execution_count": 58,
   "metadata": {
    "collapsed": false
   },
   "outputs": [],
   "source": [
    "delta2 = [[0, 1], [1, 0], [-1, 0], [0, -1]]\n",
    "\n",
    "def dfs(image, color, i, j):\n",
    "    color[i, j] = 1\n",
    "    for d in delta2:\n",
    "        i_new = i + d[0]\n",
    "        j_new = j + d[1]\n",
    "        if (i_new >= 0 and j_new >= 0 and i_new < image.shape[0] and j_new < image.shape[0] and\n",
    "               image[i_new, j_new] == 1 and color[i_new, j_new] == 0):\n",
    "            dfs(image, color, i_new, j_new)\n",
    "    color[i, j] = 2\n",
    "\n",
    "def find_connectivities_count(image):\n",
    "    count = 0\n",
    "    color = np.zeros(image.shape)\n",
    "    for i in range(image.shape[0]):\n",
    "        for j in range(image.shape[0]):\n",
    "            if (color[i, j] == 0 and image[i, j] == 1): #image[i, j] == 1 if it is white\n",
    "                count += 1\n",
    "                dfs(image, color, i, j)\n",
    "    return count"
   ]
  },
  {
   "cell_type": "code",
   "execution_count": 68,
   "metadata": {
    "collapsed": false
   },
   "outputs": [
    {
     "name": "stdout",
     "output_type": "stream",
     "text": [
      "8\n",
      "(100000, 10, 10) (100000,)\n",
      "CPU times: user 1min 45s, sys: 104 ms, total: 1min 45s\n",
      "Wall time: 1min 45s\n"
     ]
    },
    {
     "data": {
      "image/png": "[encoded data removed]",
      "text/plain": [
       "<matplotlib.figure.Figure at 0x7f51d2a12cc0>"
      ]
     },
     "metadata": {},
     "output_type": "display_data"
    }
   ],
   "source": [
    "%%time\n",
    "X = get_data((10, 10), 0.5, 100000)\n",
    "y = get_labels(X)\n",
    "picture = X[10]\n",
    "plt.imshow(picture, cmap='gray', interpolation='nearest') \n",
    "print(find_connectivities_count(picture))\n",
    "print(X.shape, y.shape)"
   ]
  },
  {
   "cell_type": "code",
   "execution_count": 76,
   "metadata": {
    "collapsed": false
   },
   "outputs": [],
   "source": [
    "frame = pd.DataFrame(data=np.hstack((X.reshape(100000, 100), y.reshape((100000, 1)))))"
   ]
  },
  {
   "cell_type": "code",
   "execution_count": 79,
   "metadata": {
    "collapsed": false
   },
   "outputs": [],
   "source": [
    "frame.to_csv('10x10, 10^5 images', index=False)"
   ]
  },
  {
   "cell_type": "code",
   "execution_count": null,
   "metadata": {
    "collapsed": true
   },
   "outputs": [],
   "source": []
  }
 ],
 "metadata": {
  "kernelspec": {
   "display_name": "Python 3",
   "language": "python",
   "name": "python3"
  },
  "language_info": {
   "codemirror_mode": {
    "name": "ipython",
    "version": 3
   },
   "file_extension": ".py",
   "mimetype": "text/x-python",
   "name": "python",
   "nbconvert_exporter": "python",
   "pygments_lexer": "ipython3",
   "version": "3.6.0"
  }
 },
 "nbformat": 4,
 "nbformat_minor": 2
}
